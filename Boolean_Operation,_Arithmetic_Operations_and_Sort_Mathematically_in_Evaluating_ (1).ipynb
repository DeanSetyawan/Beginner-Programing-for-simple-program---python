{
  "nbformat": 4,
  "nbformat_minor": 0,
  "metadata": {
    "colab": {
      "name": "Boolean_Operation,_Arithmetic_Operations_and_Sort_Mathematically_in_Evaluating_.ipynb",
      "provenance": [],
      "collapsed_sections": []
    },
    "kernelspec": {
      "name": "python3",
      "display_name": "Python 3"
    },
    "language_info": {
      "name": "python"
    }
  },
  "cells": [
    {
      "cell_type": "markdown",
      "source": [
        "#**BOOLEAN OPERATOR**"
      ],
      "metadata": {
        "id": "8DxpJkFNQaLL"
      }
    },
    {
      "cell_type": "markdown",
      "source": [
        "**AND**"
      ],
      "metadata": {
        "id": "lsZtFe_h8YZV"
      }
    },
    {
      "cell_type": "markdown",
      "source": [
        "AND— Returns True if both statements are true otherwise false\n",
        "- x AND y will return false if x is false or a function that returns y false."
      ],
      "metadata": {
        "id": "zQnCjrqS8c66"
      }
    },
    {
      "cell_type": "code",
      "source": [
        "X= True"
      ],
      "metadata": {
        "id": "QOK-5XYIAMdg"
      },
      "execution_count": null,
      "outputs": []
    },
    {
      "cell_type": "code",
      "source": [
        "Y=True"
      ],
      "metadata": {
        "id": "dSnUq_dJAMV7"
      },
      "execution_count": null,
      "outputs": []
    },
    {
      "cell_type": "code",
      "source": [
        "X and Y"
      ],
      "metadata": {
        "colab": {
          "base_uri": "https://localhost:8080/"
        },
        "id": "ijQ-wRabAMJx",
        "outputId": "cf0ec5cf-68a7-4054-a37d-123f3d594e58"
      },
      "execution_count": null,
      "outputs": [
        {
          "output_type": "execute_result",
          "data": {
            "text/plain": [
              "True"
            ]
          },
          "metadata": {},
          "execution_count": 7
        }
      ]
    },
    {
      "cell_type": "code",
      "execution_count": null,
      "metadata": {
        "id": "zrGb0oCETGFR"
      },
      "outputs": [],
      "source": [
        "Naik_motor = True\n",
        "Pakai_helm = True\n",
        "Tidak_membawa_surat =False\n",
        "Membawa_muatan_berlebih = False"
      ]
    },
    {
      "cell_type": "markdown",
      "source": [
        "if it has the same variable value then the output that comes out will be the same, like the following:"
      ],
      "metadata": {
        "id": "Y8Ow54W4_Wjn"
      }
    },
    {
      "cell_type": "code",
      "source": [
        "print(Naik_motor and Pakai_helm)"
      ],
      "metadata": {
        "colab": {
          "base_uri": "https://localhost:8080/"
        },
        "id": "QGR2flTT_F8B",
        "outputId": "075bbfd5-280c-44d1-bd25-8970b81eb76b"
      },
      "execution_count": null,
      "outputs": [
        {
          "output_type": "stream",
          "name": "stdout",
          "text": [
            "True\n"
          ]
        }
      ]
    },
    {
      "cell_type": "markdown",
      "source": [
        "if it has a different variable value then the output that comes out will be opposite to the first variable, as follows"
      ],
      "metadata": {
        "id": "WPyLz2bd_viI"
      }
    },
    {
      "cell_type": "code",
      "source": [
        "print(Naik_motor and Tidak_membawa_surat)"
      ],
      "metadata": {
        "id": "1KYrUddXAXtM",
        "colab": {
          "base_uri": "https://localhost:8080/"
        },
        "outputId": "3bc841e6-c45f-49ea-c3e2-8af03960ea0f"
      },
      "execution_count": null,
      "outputs": [
        {
          "output_type": "stream",
          "name": "stdout",
          "text": [
            "False\n"
          ]
        }
      ]
    },
    {
      "cell_type": "markdown",
      "source": [
        "**OR**"
      ],
      "metadata": {
        "id": "3oefRu_u8yXc"
      }
    },
    {
      "cell_type": "markdown",
      "source": [
        "OR—either term (or both) will be in the returned document\n",
        "- x or y, then the value will return true."
      ],
      "metadata": {
        "id": "TEE3J3kA82nM"
      }
    },
    {
      "cell_type": "code",
      "source": [
        "X= True"
      ],
      "metadata": {
        "id": "r7Bh6CNqBXRs"
      },
      "execution_count": null,
      "outputs": []
    },
    {
      "cell_type": "code",
      "source": [
        "Y= False"
      ],
      "metadata": {
        "id": "fzJ7h4feBdIJ"
      },
      "execution_count": null,
      "outputs": []
    },
    {
      "cell_type": "code",
      "source": [
        "X or Y"
      ],
      "metadata": {
        "id": "LF7AujETBiaK",
        "outputId": "985d60ae-ca55-4378-c19b-42e8dfd03787",
        "colab": {
          "base_uri": "https://localhost:8080/"
        }
      },
      "execution_count": null,
      "outputs": [
        {
          "output_type": "execute_result",
          "data": {
            "text/plain": [
              "True"
            ]
          },
          "metadata": {},
          "execution_count": 18
        }
      ]
    },
    {
      "cell_type": "code",
      "source": [
        "Membuang_sampah_ditempatnya = True\n",
        "Menjaga_lingkungan = True\n",
        "Membakar_sampah = False\n",
        "Membuang_sampah_sembarangan = False"
      ],
      "metadata": {
        "id": "usfipB58A4YI"
      },
      "execution_count": null,
      "outputs": []
    },
    {
      "cell_type": "code",
      "source": [
        "print(Membuang_sampah_ditempatnya or Menjaga_lingkungan)"
      ],
      "metadata": {
        "colab": {
          "base_uri": "https://localhost:8080/"
        },
        "id": "X5G09j6LCqI_",
        "outputId": "9cf4ddc6-690b-4b75-be00-8b4ae46c70bc"
      },
      "execution_count": null,
      "outputs": [
        {
          "output_type": "stream",
          "name": "stdout",
          "text": [
            "True\n"
          ]
        }
      ]
    },
    {
      "cell_type": "code",
      "source": [
        "print(Membuang_sampah_ditempatnya or Membakar_sampah)"
      ],
      "metadata": {
        "colab": {
          "base_uri": "https://localhost:8080/"
        },
        "id": "W8K5jP2kC-YX",
        "outputId": "bdacf8d7-e7a2-4b91-ebf6-d62fc2594dd0"
      },
      "execution_count": null,
      "outputs": [
        {
          "output_type": "stream",
          "name": "stdout",
          "text": [
            "True\n"
          ]
        }
      ]
    },
    {
      "cell_type": "code",
      "source": [
        "print(Membuang_sampah_sembarangan or Membakar_sampah)"
      ],
      "metadata": {
        "colab": {
          "base_uri": "https://localhost:8080/"
        },
        "id": "xNgIcVcNDK_P",
        "outputId": "c3e55edc-9eaf-4b15-b1b5-15acfe3f5ef0"
      },
      "execution_count": null,
      "outputs": [
        {
          "output_type": "stream",
          "name": "stdout",
          "text": [
            "False\n"
          ]
        }
      ]
    },
    {
      "cell_type": "markdown",
      "source": [
        "**NOT**"
      ],
      "metadata": {
        "id": "vpNy8gTA9u9N"
      }
    },
    {
      "cell_type": "markdown",
      "source": [
        "- IF X TRUE, THE FUNCTION WILL RETURN FALSE.\n",
        "- IF Y FALSE, IT WILL RETURN TRUE"
      ],
      "metadata": {
        "id": "3DGnxqfQ-HxG"
      }
    },
    {
      "cell_type": "code",
      "source": [
        "x = 5\n",
        "not x < 10\n",
        "False\n",
        "not callable(x)\n",
        "True"
      ],
      "metadata": {
        "id": "MO5qEYbM-ZIm",
        "colab": {
          "base_uri": "https://localhost:8080/"
        },
        "outputId": "410d785e-aca9-4b49-f855-18c59459a9b8"
      },
      "execution_count": null,
      "outputs": [
        {
          "output_type": "execute_result",
          "data": {
            "text/plain": [
              "True"
            ]
          },
          "metadata": {},
          "execution_count": 54
        }
      ]
    },
    {
      "cell_type": "markdown",
      "source": [
        "#**Arithmetic operations**"
      ],
      "metadata": {
        "id": "d0quraw4HUiQ"
      }
    },
    {
      "cell_type": "code",
      "source": [
        "O=150\n",
        "P=20\n",
        "Q=100\n",
        "R= 3"
      ],
      "metadata": {
        "id": "WaY6LTauItsy"
      },
      "execution_count": null,
      "outputs": []
    },
    {
      "cell_type": "markdown",
      "source": [
        "1. operator are special symbols in Python that carry out arithmetic or logical computation\n",
        "2. operands is The value that the operator operates on\n",
        "3. expression is a combination of operators and operands that is interpreted to produce some other value"
      ],
      "metadata": {
        "id": "bg4aomVj6BRA"
      }
    },
    {
      "cell_type": "markdown",
      "source": [
        "**Addition** (+)\n",
        "- sum of Q and P and O"
      ],
      "metadata": {
        "id": "Sfua3kKUH8b4"
      }
    },
    {
      "cell_type": "code",
      "source": [
        "Q+P+O"
      ],
      "metadata": {
        "colab": {
          "base_uri": "https://localhost:8080/"
        },
        "id": "fLnXk_TyHYAz",
        "outputId": "7ba61f0e-eb5c-4c12-c1a2-4ffb4831e355"
      },
      "execution_count": null,
      "outputs": [
        {
          "output_type": "execute_result",
          "data": {
            "text/plain": [
              "270"
            ]
          },
          "metadata": {},
          "execution_count": 28
        }
      ]
    },
    {
      "cell_type": "code",
      "execution_count": null,
      "metadata": {
        "id": "eV2a2RHAMW_V",
        "colab": {
          "base_uri": "https://localhost:8080/",
          "height": 35
        },
        "outputId": "ee4925bf-b504-443d-8848-4032c3ad2154"
      },
      "outputs": [
        {
          "output_type": "execute_result",
          "data": {
            "text/plain": [
              "'katakamu'"
            ],
            "application/vnd.google.colaboratory.intrinsic+json": {
              "type": "string"
            }
          },
          "metadata": {},
          "execution_count": 11
        }
      ],
      "source": [
        "\"kata\"+\"kamu\""
      ]
    },
    {
      "cell_type": "code",
      "source": [
        "12.1+12"
      ],
      "metadata": {
        "colab": {
          "base_uri": "https://localhost:8080/"
        },
        "id": "smYoVy36PbB7",
        "outputId": "71ac624a-2769-478f-b812-82be12de027c"
      },
      "execution_count": null,
      "outputs": [
        {
          "output_type": "execute_result",
          "data": {
            "text/plain": [
              "24.1"
            ]
          },
          "metadata": {},
          "execution_count": 35
        }
      ]
    },
    {
      "cell_type": "code",
      "source": [
        "\"kata\"+2"
      ],
      "metadata": {
        "colab": {
          "base_uri": "https://localhost:8080/",
          "height": 171
        },
        "id": "Trqhbq2RPf8v",
        "outputId": "703642f0-b096-4268-e717-25834599bf79"
      },
      "execution_count": null,
      "outputs": [
        {
          "output_type": "error",
          "ename": "TypeError",
          "evalue": "ignored",
          "traceback": [
            "\u001b[0;31m---------------------------------------------------------------------------\u001b[0m",
            "\u001b[0;31mTypeError\u001b[0m                                 Traceback (most recent call last)",
            "\u001b[0;32m<ipython-input-36-01368c238050>\u001b[0m in \u001b[0;36m<module>\u001b[0;34m()\u001b[0m\n\u001b[0;32m----> 1\u001b[0;31m \u001b[0;34m\"kata\"\u001b[0m\u001b[0;34m+\u001b[0m\u001b[0;36m2\u001b[0m\u001b[0;34m\u001b[0m\u001b[0;34m\u001b[0m\u001b[0m\n\u001b[0m",
            "\u001b[0;31mTypeError\u001b[0m: can only concatenate str (not \"int\") to str"
          ]
        }
      ]
    },
    {
      "cell_type": "code",
      "source": [
        "[3,90]+[3,17]"
      ],
      "metadata": {
        "colab": {
          "base_uri": "https://localhost:8080/"
        },
        "id": "-qQaXHmV-p0B",
        "outputId": "731ffd48-c516-4f75-bae0-38d5f47f6d2b"
      },
      "execution_count": null,
      "outputs": [
        {
          "output_type": "execute_result",
          "data": {
            "text/plain": [
              "[3, 90, 3, 17]"
            ]
          },
          "metadata": {},
          "execution_count": 15
        }
      ]
    },
    {
      "cell_type": "code",
      "source": [
        "[3,9]+7"
      ],
      "metadata": {
        "colab": {
          "base_uri": "https://localhost:8080/",
          "height": 171
        },
        "id": "AIX3gNfU--W8",
        "outputId": "3908085a-c133-400b-a28d-06583d46cfac"
      },
      "execution_count": null,
      "outputs": [
        {
          "output_type": "error",
          "ename": "TypeError",
          "evalue": "ignored",
          "traceback": [
            "\u001b[0;31m---------------------------------------------------------------------------\u001b[0m",
            "\u001b[0;31mTypeError\u001b[0m                                 Traceback (most recent call last)",
            "\u001b[0;32m<ipython-input-17-69c1b3d8d652>\u001b[0m in \u001b[0;36m<module>\u001b[0;34m()\u001b[0m\n\u001b[0;32m----> 1\u001b[0;31m \u001b[0;34m[\u001b[0m\u001b[0;36m3\u001b[0m\u001b[0;34m,\u001b[0m\u001b[0;36m9\u001b[0m\u001b[0;34m]\u001b[0m\u001b[0;34m+\u001b[0m\u001b[0;36m7\u001b[0m\u001b[0;34m\u001b[0m\u001b[0;34m\u001b[0m\u001b[0m\n\u001b[0m",
            "\u001b[0;31mTypeError\u001b[0m: can only concatenate list (not \"int\") to list"
          ]
        }
      ]
    },
    {
      "cell_type": "code",
      "source": [
        "(3,90)+(9,2)"
      ],
      "metadata": {
        "colab": {
          "base_uri": "https://localhost:8080/"
        },
        "id": "Zs00YeEh-5Fl",
        "outputId": "22498ad8-120e-4fcf-ca33-f51aeaa2f2dc"
      },
      "execution_count": null,
      "outputs": [
        {
          "output_type": "execute_result",
          "data": {
            "text/plain": [
              "(3, 90, 9, 2)"
            ]
          },
          "metadata": {},
          "execution_count": 18
        }
      ]
    },
    {
      "cell_type": "code",
      "source": [
        "{\"key\":\"value\"}+{\"simple\":\"desire\"}"
      ],
      "metadata": {
        "colab": {
          "base_uri": "https://localhost:8080/",
          "height": 171
        },
        "id": "E4yXXhkm_pjz",
        "outputId": "0e1ff387-e1b7-4926-96a3-a86be7f2266a"
      },
      "execution_count": null,
      "outputs": [
        {
          "output_type": "error",
          "ename": "TypeError",
          "evalue": "ignored",
          "traceback": [
            "\u001b[0;31m---------------------------------------------------------------------------\u001b[0m",
            "\u001b[0;31mTypeError\u001b[0m                                 Traceback (most recent call last)",
            "\u001b[0;32m<ipython-input-19-f1bc82a320d6>\u001b[0m in \u001b[0;36m<module>\u001b[0;34m()\u001b[0m\n\u001b[0;32m----> 1\u001b[0;31m \u001b[0;34m{\u001b[0m\u001b[0;34m\"key\"\u001b[0m\u001b[0;34m:\u001b[0m\u001b[0;34m\"value\"\u001b[0m\u001b[0;34m}\u001b[0m\u001b[0;34m+\u001b[0m\u001b[0;34m{\u001b[0m\u001b[0;34m\"simple\"\u001b[0m\u001b[0;34m:\u001b[0m\u001b[0;34m\"desire\"\u001b[0m\u001b[0;34m}\u001b[0m\u001b[0;34m\u001b[0m\u001b[0;34m\u001b[0m\u001b[0m\n\u001b[0m",
            "\u001b[0;31mTypeError\u001b[0m: unsupported operand type(s) for +: 'dict' and 'dict'"
          ]
        }
      ]
    },
    {
      "cell_type": "code",
      "source": [
        "{1,2}+{2,3}"
      ],
      "metadata": {
        "colab": {
          "base_uri": "https://localhost:8080/",
          "height": 171
        },
        "id": "Zql1LA1FL29o",
        "outputId": "7fd757b3-c262-42e6-bea0-83f74ef2494e"
      },
      "execution_count": null,
      "outputs": [
        {
          "output_type": "error",
          "ename": "TypeError",
          "evalue": "ignored",
          "traceback": [
            "\u001b[0;31m---------------------------------------------------------------------------\u001b[0m",
            "\u001b[0;31mTypeError\u001b[0m                                 Traceback (most recent call last)",
            "\u001b[0;32m<ipython-input-34-e1e18cf69a7a>\u001b[0m in \u001b[0;36m<module>\u001b[0;34m()\u001b[0m\n\u001b[0;32m----> 1\u001b[0;31m \u001b[0;34m{\u001b[0m\u001b[0;36m1\u001b[0m\u001b[0;34m,\u001b[0m\u001b[0;36m2\u001b[0m\u001b[0;34m}\u001b[0m\u001b[0;34m+\u001b[0m\u001b[0;34m{\u001b[0m\u001b[0;36m2\u001b[0m\u001b[0;34m,\u001b[0m\u001b[0;36m3\u001b[0m\u001b[0;34m}\u001b[0m\u001b[0;34m\u001b[0m\u001b[0;34m\u001b[0m\u001b[0m\n\u001b[0m",
            "\u001b[0;31mTypeError\u001b[0m: unsupported operand type(s) for +: 'set' and 'set'"
          ]
        }
      ]
    },
    {
      "cell_type": "markdown",
      "source": [
        "from little experiment above, we know addition can work  for a lot different data type except dictionary and set. addition works different way in different data type\n",
        "1. addition in string mean merge between string like we see above\n",
        "2. addition in numeric mean addition in matematic\n",
        "3. addition in list mean adding another list to other list to become one list\n",
        "4. addition in tuple mean adding another tuple to other tuple to become one tuple\n",
        "\n",
        "note: addition only possible between same data type and for numeric case as long same numeric data type it possible to use addition function so it possible to use addition between float,integer and complex"
      ],
      "metadata": {
        "id": "4VWHAlGPLSqF"
      }
    },
    {
      "cell_type": "markdown",
      "source": [
        "**Subtraction** (-)\n",
        "- \tP subtracted from Q"
      ],
      "metadata": {
        "id": "jdEEvPM3IBEA"
      }
    },
    {
      "cell_type": "code",
      "source": [
        "Q-P"
      ],
      "metadata": {
        "colab": {
          "base_uri": "https://localhost:8080/"
        },
        "id": "FTCXONwJH_bS",
        "outputId": "a0ce522b-e842-4ff8-a9f7-3884826756c9"
      },
      "execution_count": null,
      "outputs": [
        {
          "output_type": "execute_result",
          "data": {
            "text/plain": [
              "80"
            ]
          },
          "metadata": {},
          "execution_count": 29
        }
      ]
    },
    {
      "cell_type": "code",
      "execution_count": null,
      "metadata": {
        "colab": {
          "base_uri": "https://localhost:8080/",
          "height": 35
        },
        "outputId": "ee4925bf-b504-443d-8848-4032c3ad2154",
        "id": "zrVOIwuWV4Ij"
      },
      "outputs": [
        {
          "output_type": "execute_result",
          "data": {
            "text/plain": [
              "'katakamu'"
            ],
            "application/vnd.google.colaboratory.intrinsic+json": {
              "type": "string"
            }
          },
          "metadata": {},
          "execution_count": 11
        }
      ],
      "source": [
        "\"kata\"+\"kamu\""
      ]
    },
    {
      "cell_type": "code",
      "source": [
        "12.1+12"
      ],
      "metadata": {
        "colab": {
          "base_uri": "https://localhost:8080/"
        },
        "outputId": "71ac624a-2769-478f-b812-82be12de027c",
        "id": "dj3wH-ryV4Il"
      },
      "execution_count": null,
      "outputs": [
        {
          "output_type": "execute_result",
          "data": {
            "text/plain": [
              "24.1"
            ]
          },
          "metadata": {},
          "execution_count": 35
        }
      ]
    },
    {
      "cell_type": "code",
      "source": [
        "\"kata\"+2"
      ],
      "metadata": {
        "colab": {
          "base_uri": "https://localhost:8080/",
          "height": 171
        },
        "outputId": "703642f0-b096-4268-e717-25834599bf79",
        "id": "k41sRjqgV4Im"
      },
      "execution_count": null,
      "outputs": [
        {
          "output_type": "error",
          "ename": "TypeError",
          "evalue": "ignored",
          "traceback": [
            "\u001b[0;31m---------------------------------------------------------------------------\u001b[0m",
            "\u001b[0;31mTypeError\u001b[0m                                 Traceback (most recent call last)",
            "\u001b[0;32m<ipython-input-36-01368c238050>\u001b[0m in \u001b[0;36m<module>\u001b[0;34m()\u001b[0m\n\u001b[0;32m----> 1\u001b[0;31m \u001b[0;34m\"kata\"\u001b[0m\u001b[0;34m+\u001b[0m\u001b[0;36m2\u001b[0m\u001b[0;34m\u001b[0m\u001b[0;34m\u001b[0m\u001b[0m\n\u001b[0m",
            "\u001b[0;31mTypeError\u001b[0m: can only concatenate str (not \"int\") to str"
          ]
        }
      ]
    },
    {
      "cell_type": "code",
      "source": [
        "[3,90]+[3,17]"
      ],
      "metadata": {
        "colab": {
          "base_uri": "https://localhost:8080/"
        },
        "outputId": "731ffd48-c516-4f75-bae0-38d5f47f6d2b",
        "id": "bEGaCHVrV4Im"
      },
      "execution_count": null,
      "outputs": [
        {
          "output_type": "execute_result",
          "data": {
            "text/plain": [
              "[3, 90, 3, 17]"
            ]
          },
          "metadata": {},
          "execution_count": 15
        }
      ]
    },
    {
      "cell_type": "code",
      "source": [
        "[3,9]+7"
      ],
      "metadata": {
        "colab": {
          "base_uri": "https://localhost:8080/",
          "height": 171
        },
        "outputId": "3908085a-c133-400b-a28d-06583d46cfac",
        "id": "ZtCT19opV4Im"
      },
      "execution_count": null,
      "outputs": [
        {
          "output_type": "error",
          "ename": "TypeError",
          "evalue": "ignored",
          "traceback": [
            "\u001b[0;31m---------------------------------------------------------------------------\u001b[0m",
            "\u001b[0;31mTypeError\u001b[0m                                 Traceback (most recent call last)",
            "\u001b[0;32m<ipython-input-17-69c1b3d8d652>\u001b[0m in \u001b[0;36m<module>\u001b[0;34m()\u001b[0m\n\u001b[0;32m----> 1\u001b[0;31m \u001b[0;34m[\u001b[0m\u001b[0;36m3\u001b[0m\u001b[0;34m,\u001b[0m\u001b[0;36m9\u001b[0m\u001b[0;34m]\u001b[0m\u001b[0;34m+\u001b[0m\u001b[0;36m7\u001b[0m\u001b[0;34m\u001b[0m\u001b[0;34m\u001b[0m\u001b[0m\n\u001b[0m",
            "\u001b[0;31mTypeError\u001b[0m: can only concatenate list (not \"int\") to list"
          ]
        }
      ]
    },
    {
      "cell_type": "code",
      "source": [
        "(3,90)+(9,2)"
      ],
      "metadata": {
        "colab": {
          "base_uri": "https://localhost:8080/"
        },
        "outputId": "22498ad8-120e-4fcf-ca33-f51aeaa2f2dc",
        "id": "1aTwY2luV4Im"
      },
      "execution_count": null,
      "outputs": [
        {
          "output_type": "execute_result",
          "data": {
            "text/plain": [
              "(3, 90, 9, 2)"
            ]
          },
          "metadata": {},
          "execution_count": 18
        }
      ]
    },
    {
      "cell_type": "code",
      "source": [
        "{\"key\":\"value\"}+{\"simple\":\"desire\"}"
      ],
      "metadata": {
        "colab": {
          "base_uri": "https://localhost:8080/",
          "height": 171
        },
        "outputId": "0e1ff387-e1b7-4926-96a3-a86be7f2266a",
        "id": "aMnhFxF8V4In"
      },
      "execution_count": null,
      "outputs": [
        {
          "output_type": "error",
          "ename": "TypeError",
          "evalue": "ignored",
          "traceback": [
            "\u001b[0;31m---------------------------------------------------------------------------\u001b[0m",
            "\u001b[0;31mTypeError\u001b[0m                                 Traceback (most recent call last)",
            "\u001b[0;32m<ipython-input-19-f1bc82a320d6>\u001b[0m in \u001b[0;36m<module>\u001b[0;34m()\u001b[0m\n\u001b[0;32m----> 1\u001b[0;31m \u001b[0;34m{\u001b[0m\u001b[0;34m\"key\"\u001b[0m\u001b[0;34m:\u001b[0m\u001b[0;34m\"value\"\u001b[0m\u001b[0;34m}\u001b[0m\u001b[0;34m+\u001b[0m\u001b[0;34m{\u001b[0m\u001b[0;34m\"simple\"\u001b[0m\u001b[0;34m:\u001b[0m\u001b[0;34m\"desire\"\u001b[0m\u001b[0;34m}\u001b[0m\u001b[0;34m\u001b[0m\u001b[0;34m\u001b[0m\u001b[0m\n\u001b[0m",
            "\u001b[0;31mTypeError\u001b[0m: unsupported operand type(s) for +: 'dict' and 'dict'"
          ]
        }
      ]
    },
    {
      "cell_type": "code",
      "source": [
        "{1,2}+{2,3}"
      ],
      "metadata": {
        "colab": {
          "base_uri": "https://localhost:8080/",
          "height": 171
        },
        "outputId": "7fd757b3-c262-42e6-bea0-83f74ef2494e",
        "id": "BcgS3-v7V4In"
      },
      "execution_count": null,
      "outputs": [
        {
          "output_type": "error",
          "ename": "TypeError",
          "evalue": "ignored",
          "traceback": [
            "\u001b[0;31m---------------------------------------------------------------------------\u001b[0m",
            "\u001b[0;31mTypeError\u001b[0m                                 Traceback (most recent call last)",
            "\u001b[0;32m<ipython-input-34-e1e18cf69a7a>\u001b[0m in \u001b[0;36m<module>\u001b[0;34m()\u001b[0m\n\u001b[0;32m----> 1\u001b[0;31m \u001b[0;34m{\u001b[0m\u001b[0;36m1\u001b[0m\u001b[0;34m,\u001b[0m\u001b[0;36m2\u001b[0m\u001b[0;34m}\u001b[0m\u001b[0;34m+\u001b[0m\u001b[0;34m{\u001b[0m\u001b[0;36m2\u001b[0m\u001b[0;34m,\u001b[0m\u001b[0;36m3\u001b[0m\u001b[0;34m}\u001b[0m\u001b[0;34m\u001b[0m\u001b[0;34m\u001b[0m\u001b[0m\n\u001b[0m",
            "\u001b[0;31mTypeError\u001b[0m: unsupported operand type(s) for +: 'set' and 'set'"
          ]
        }
      ]
    },
    {
      "cell_type": "markdown",
      "source": [
        "from little experiment above, we know addition can work  for a lot different data type except dictionary and set. addition works different way in different data type\n",
        "1. addition in string mean merge between string like we see above\n",
        "2. addition in numeric mean addition in matematic\n",
        "3. addition in list mean adding another list to other list to become one list\n",
        "4. addition in tuple mean adding another tuple to other tuple to become one tuple\n",
        "\n",
        "note: addition only possible between same data type and for numeric case as long same numeric data type it possible to use addition function so it possible to use addition between float,integer and complex"
      ],
      "metadata": {
        "id": "M3XedS2rV4In"
      }
    },
    {
      "cell_type": "code",
      "source": [
        "45-12"
      ],
      "metadata": {
        "colab": {
          "base_uri": "https://localhost:8080/"
        },
        "id": "aY7X2hZ17uXK",
        "outputId": "59e92df0-db0d-4525-e247-84938bca8b31"
      },
      "execution_count": null,
      "outputs": [
        {
          "output_type": "execute_result",
          "data": {
            "text/plain": [
              "33"
            ]
          },
          "metadata": {},
          "execution_count": 3
        }
      ]
    },
    {
      "cell_type": "code",
      "source": [
        "\"kata\"-\"ka\""
      ],
      "metadata": {
        "colab": {
          "base_uri": "https://localhost:8080/",
          "height": 171
        },
        "id": "XqJOEqrJ-G3C",
        "outputId": "71c7e844-c3cb-4144-cb73-46efa8251c17"
      },
      "execution_count": null,
      "outputs": [
        {
          "output_type": "error",
          "ename": "TypeError",
          "evalue": "ignored",
          "traceback": [
            "\u001b[0;31m---------------------------------------------------------------------------\u001b[0m",
            "\u001b[0;31mTypeError\u001b[0m                                 Traceback (most recent call last)",
            "\u001b[0;32m<ipython-input-12-75f07afdc945>\u001b[0m in \u001b[0;36m<module>\u001b[0;34m()\u001b[0m\n\u001b[0;32m----> 1\u001b[0;31m \u001b[0;34m\"kata\"\u001b[0m\u001b[0;34m-\u001b[0m\u001b[0;34m\"ka\"\u001b[0m\u001b[0;34m\u001b[0m\u001b[0;34m\u001b[0m\u001b[0m\n\u001b[0m",
            "\u001b[0;31mTypeError\u001b[0m: unsupported operand type(s) for -: 'str' and 'str'"
          ]
        }
      ]
    },
    {
      "cell_type": "code",
      "source": [
        "122-9-11"
      ],
      "metadata": {
        "colab": {
          "base_uri": "https://localhost:8080/"
        },
        "id": "ifC_99pA7-Nh",
        "outputId": "fd57230a-9d63-44d3-81ac-05e8fecfc864"
      },
      "execution_count": null,
      "outputs": [
        {
          "output_type": "execute_result",
          "data": {
            "text/plain": [
              "102"
            ]
          },
          "metadata": {},
          "execution_count": 4
        }
      ]
    },
    {
      "cell_type": "code",
      "source": [
        "[2,19]-[7,10]"
      ],
      "metadata": {
        "colab": {
          "base_uri": "https://localhost:8080/",
          "height": 171
        },
        "id": "Z2pf5C1jCoiz",
        "outputId": "4eac449d-0f25-493e-ec3c-224793b6b11c"
      },
      "execution_count": null,
      "outputs": [
        {
          "output_type": "error",
          "ename": "TypeError",
          "evalue": "ignored",
          "traceback": [
            "\u001b[0;31m---------------------------------------------------------------------------\u001b[0m",
            "\u001b[0;31mTypeError\u001b[0m                                 Traceback (most recent call last)",
            "\u001b[0;32m<ipython-input-20-5abe04f57646>\u001b[0m in \u001b[0;36m<module>\u001b[0;34m()\u001b[0m\n\u001b[0;32m----> 1\u001b[0;31m \u001b[0;34m[\u001b[0m\u001b[0;36m2\u001b[0m\u001b[0;34m,\u001b[0m\u001b[0;36m19\u001b[0m\u001b[0;34m]\u001b[0m\u001b[0;34m-\u001b[0m\u001b[0;34m[\u001b[0m\u001b[0;36m7\u001b[0m\u001b[0;34m,\u001b[0m\u001b[0;36m10\u001b[0m\u001b[0;34m]\u001b[0m\u001b[0;34m\u001b[0m\u001b[0;34m\u001b[0m\u001b[0m\n\u001b[0m",
            "\u001b[0;31mTypeError\u001b[0m: unsupported operand type(s) for -: 'list' and 'list'"
          ]
        }
      ]
    },
    {
      "cell_type": "code",
      "source": [
        "(9,10)-(9,10)"
      ],
      "metadata": {
        "colab": {
          "base_uri": "https://localhost:8080/",
          "height": 171
        },
        "id": "9uQ5_-PVC5FR",
        "outputId": "3c17704f-762f-4537-f3e5-d2d5c5c14be6"
      },
      "execution_count": null,
      "outputs": [
        {
          "output_type": "error",
          "ename": "TypeError",
          "evalue": "ignored",
          "traceback": [
            "\u001b[0;31m---------------------------------------------------------------------------\u001b[0m",
            "\u001b[0;31mTypeError\u001b[0m                                 Traceback (most recent call last)",
            "\u001b[0;32m<ipython-input-22-c0e4b3d2a9f8>\u001b[0m in \u001b[0;36m<module>\u001b[0;34m()\u001b[0m\n\u001b[0;32m----> 1\u001b[0;31m \u001b[0;34m(\u001b[0m\u001b[0;36m9\u001b[0m\u001b[0;34m,\u001b[0m\u001b[0;36m10\u001b[0m\u001b[0;34m)\u001b[0m\u001b[0;34m-\u001b[0m\u001b[0;34m(\u001b[0m\u001b[0;36m9\u001b[0m\u001b[0;34m,\u001b[0m\u001b[0;36m10\u001b[0m\u001b[0;34m)\u001b[0m\u001b[0;34m\u001b[0m\u001b[0;34m\u001b[0m\u001b[0m\n\u001b[0m",
            "\u001b[0;31mTypeError\u001b[0m: unsupported operand type(s) for -: 'tuple' and 'tuple'"
          ]
        }
      ]
    },
    {
      "cell_type": "markdown",
      "source": [
        "substraction only possible for numeric data type"
      ],
      "metadata": {
        "id": "9-8erYSLRK1h"
      }
    },
    {
      "cell_type": "markdown",
      "source": [
        "**`Multiplication`** (*)"
      ],
      "metadata": {
        "id": "BQWqwVihH_DA"
      }
    },
    {
      "cell_type": "code",
      "source": [
        "O*P"
      ],
      "metadata": {
        "colab": {
          "base_uri": "https://localhost:8080/"
        },
        "id": "mE3S2RzLIHTg",
        "outputId": "1eebd7de-5516-4812-bf40-8a794821e0ce"
      },
      "execution_count": null,
      "outputs": [
        {
          "output_type": "execute_result",
          "data": {
            "text/plain": [
              "3000"
            ]
          },
          "metadata": {},
          "execution_count": 30
        }
      ]
    },
    {
      "cell_type": "code",
      "source": [
        "3*190"
      ],
      "metadata": {
        "colab": {
          "base_uri": "https://localhost:8080/"
        },
        "id": "WJM3bLCn8qZy",
        "outputId": "7643eb00-7a43-4f1d-abe7-b00edc62439c"
      },
      "execution_count": null,
      "outputs": [
        {
          "output_type": "execute_result",
          "data": {
            "text/plain": [
              "570"
            ]
          },
          "metadata": {},
          "execution_count": 6
        }
      ]
    },
    {
      "cell_type": "code",
      "source": [
        "3*8.9"
      ],
      "metadata": {
        "colab": {
          "base_uri": "https://localhost:8080/"
        },
        "id": "5k4ojF6LTl-Q",
        "outputId": "201fc746-7c4d-4495-f692-13fbabb03c49"
      },
      "execution_count": null,
      "outputs": [
        {
          "output_type": "execute_result",
          "data": {
            "text/plain": [
              "26.700000000000003"
            ]
          },
          "metadata": {},
          "execution_count": 41
        }
      ]
    },
    {
      "cell_type": "code",
      "source": [
        "a=1+8j\n",
        "b=3.0\n",
        "a*b"
      ],
      "metadata": {
        "colab": {
          "base_uri": "https://localhost:8080/"
        },
        "id": "6tkmF_8jTogD",
        "outputId": "1644577b-cd00-4aa8-ad54-d5cb0dcaccec"
      },
      "execution_count": null,
      "outputs": [
        {
          "output_type": "execute_result",
          "data": {
            "text/plain": [
              "(3+24j)"
            ]
          },
          "metadata": {},
          "execution_count": 42
        }
      ]
    },
    {
      "cell_type": "code",
      "source": [
        "\"kata\"*\"kata\""
      ],
      "metadata": {
        "colab": {
          "base_uri": "https://localhost:8080/",
          "height": 171
        },
        "id": "bNG4WqQmSgVL",
        "outputId": "881fa9a2-4f8f-416f-d730-4e1e0122bfe7"
      },
      "execution_count": null,
      "outputs": [
        {
          "output_type": "error",
          "ename": "TypeError",
          "evalue": "ignored",
          "traceback": [
            "\u001b[0;31m---------------------------------------------------------------------------\u001b[0m",
            "\u001b[0;31mTypeError\u001b[0m                                 Traceback (most recent call last)",
            "\u001b[0;32m<ipython-input-39-ae63137741b7>\u001b[0m in \u001b[0;36m<module>\u001b[0;34m()\u001b[0m\n\u001b[0;32m----> 1\u001b[0;31m \u001b[0;34m\"kata\"\u001b[0m\u001b[0;34m*\u001b[0m\u001b[0;34m\"kata\"\u001b[0m\u001b[0;34m\u001b[0m\u001b[0;34m\u001b[0m\u001b[0m\n\u001b[0m",
            "\u001b[0;31mTypeError\u001b[0m: can't multiply sequence by non-int of type 'str'"
          ]
        }
      ]
    },
    {
      "cell_type": "code",
      "source": [
        "\"kata\"*3"
      ],
      "metadata": {
        "colab": {
          "base_uri": "https://localhost:8080/",
          "height": 35
        },
        "id": "AHas813q88hZ",
        "outputId": "f4799ebb-419b-4e28-98c7-5067cb8359ad"
      },
      "execution_count": null,
      "outputs": [
        {
          "output_type": "execute_result",
          "data": {
            "text/plain": [
              "'katakatakata'"
            ],
            "application/vnd.google.colaboratory.intrinsic+json": {
              "type": "string"
            }
          },
          "metadata": {},
          "execution_count": 13
        }
      ]
    },
    {
      "cell_type": "code",
      "source": [
        "\"kata\"*3.2"
      ],
      "metadata": {
        "colab": {
          "base_uri": "https://localhost:8080/",
          "height": 171
        },
        "id": "m1YYXttwTDO0",
        "outputId": "b463e3b5-a9d3-4b46-91e8-41188164d35b"
      },
      "execution_count": null,
      "outputs": [
        {
          "output_type": "error",
          "ename": "TypeError",
          "evalue": "ignored",
          "traceback": [
            "\u001b[0;31m---------------------------------------------------------------------------\u001b[0m",
            "\u001b[0;31mTypeError\u001b[0m                                 Traceback (most recent call last)",
            "\u001b[0;32m<ipython-input-40-4cd0aa40e284>\u001b[0m in \u001b[0;36m<module>\u001b[0;34m()\u001b[0m\n\u001b[0;32m----> 1\u001b[0;31m \u001b[0;34m\"kata\"\u001b[0m\u001b[0;34m*\u001b[0m\u001b[0;36m3.2\u001b[0m\u001b[0;34m\u001b[0m\u001b[0;34m\u001b[0m\u001b[0m\n\u001b[0m",
            "\u001b[0;31mTypeError\u001b[0m: can't multiply sequence by non-int of type 'float'"
          ]
        }
      ]
    },
    {
      "cell_type": "code",
      "source": [
        "[3,5]*3"
      ],
      "metadata": {
        "colab": {
          "base_uri": "https://localhost:8080/"
        },
        "id": "CBW32Kzm-ii3",
        "outputId": "1454e26e-6c93-4dc8-fbb0-6717b4893d9a"
      },
      "execution_count": null,
      "outputs": [
        {
          "output_type": "execute_result",
          "data": {
            "text/plain": [
              "[3, 5, 3, 5, 3, 5]"
            ]
          },
          "metadata": {},
          "execution_count": 43
        }
      ]
    },
    {
      "cell_type": "code",
      "source": [
        "(2,5)*3"
      ],
      "metadata": {
        "colab": {
          "base_uri": "https://localhost:8080/"
        },
        "id": "YsT0ZvB3SIqI",
        "outputId": "a9e6ebcc-c7eb-44f6-a743-9fbf493b1a40"
      },
      "execution_count": null,
      "outputs": [
        {
          "output_type": "execute_result",
          "data": {
            "text/plain": [
              "(2, 5, 2, 5, 2, 5)"
            ]
          },
          "metadata": {},
          "execution_count": 44
        }
      ]
    },
    {
      "cell_type": "code",
      "source": [
        "{2,8}*3"
      ],
      "metadata": {
        "colab": {
          "base_uri": "https://localhost:8080/",
          "height": 171
        },
        "id": "CQsjUB2JSC_I",
        "outputId": "0ce45f3a-1062-4b8f-f670-a10ff647bfe0"
      },
      "execution_count": null,
      "outputs": [
        {
          "output_type": "error",
          "ename": "TypeError",
          "evalue": "ignored",
          "traceback": [
            "\u001b[0;31m---------------------------------------------------------------------------\u001b[0m",
            "\u001b[0;31mTypeError\u001b[0m                                 Traceback (most recent call last)",
            "\u001b[0;32m<ipython-input-37-2bb25f3fb964>\u001b[0m in \u001b[0;36m<module>\u001b[0;34m()\u001b[0m\n\u001b[0;32m----> 1\u001b[0;31m \u001b[0;34m{\u001b[0m\u001b[0;36m2\u001b[0m\u001b[0;34m,\u001b[0m\u001b[0;36m8\u001b[0m\u001b[0;34m}\u001b[0m\u001b[0;34m*\u001b[0m\u001b[0;36m3\u001b[0m\u001b[0;34m\u001b[0m\u001b[0;34m\u001b[0m\u001b[0m\n\u001b[0m",
            "\u001b[0;31mTypeError\u001b[0m: unsupported operand type(s) for *: 'set' and 'int'"
          ]
        }
      ]
    },
    {
      "cell_type": "markdown",
      "source": [
        "multiplication only possible for some data type and must to be multiplication with integer data type for non numeric combination. if between numeric data type no problem occur. different combination make different output\n",
        "1. string with integer = repeat string based on integer number\n",
        "2. numeric data type multiplication = same as matematic multiplication\n",
        "3. list with integer = repeating sequence based on integer number and make it in one list\n",
        "4. tuple with integer = repeating sequance based on integer number and make it in one tuple"
      ],
      "metadata": {
        "id": "bCBHxbQIR9wt"
      }
    },
    {
      "cell_type": "markdown",
      "source": [
        "**Division** (/)\n",
        "- Quotient when Q is divided by P.\n",
        "The result always has type float."
      ],
      "metadata": {
        "id": "9jDUBgKJIRyg"
      }
    },
    {
      "cell_type": "code",
      "source": [
        "Q/P"
      ],
      "metadata": {
        "colab": {
          "base_uri": "https://localhost:8080/"
        },
        "id": "vKjoSskWIPPZ",
        "outputId": "912277bc-bcb7-427f-edb0-513c9923f6e2"
      },
      "execution_count": null,
      "outputs": [
        {
          "output_type": "execute_result",
          "data": {
            "text/plain": [
              "5.0"
            ]
          },
          "metadata": {},
          "execution_count": 31
        }
      ]
    },
    {
      "cell_type": "markdown",
      "source": [
        "only possible for numeric data type"
      ],
      "metadata": {
        "id": "rw4p4f5zWl3e"
      }
    },
    {
      "cell_type": "markdown",
      "source": [
        "**Exponentiation** (**)\n",
        "- P raised to the power of R"
      ],
      "metadata": {
        "id": "eqz6ZWcxIZRi"
      }
    },
    {
      "cell_type": "code",
      "source": [
        "P**R"
      ],
      "metadata": {
        "colab": {
          "base_uri": "https://localhost:8080/"
        },
        "id": "FdLV56A-IakQ",
        "outputId": "381e1402-9f6c-4672-f858-2e7267bd10af"
      },
      "execution_count": null,
      "outputs": [
        {
          "output_type": "execute_result",
          "data": {
            "text/plain": [
              "8000"
            ]
          },
          "metadata": {},
          "execution_count": 36
        }
      ]
    },
    {
      "cell_type": "markdown",
      "source": [
        "only possible for numeric data type"
      ],
      "metadata": {
        "id": "dK19Do0UWp9s"
      }
    },
    {
      "cell_type": "markdown",
      "source": [
        "**Floor Division** (//)\n",
        "- divides two numbers and rounds the result down to the nearest integer"
      ],
      "metadata": {
        "id": "gN_q6_l2W8PN"
      }
    },
    {
      "cell_type": "code",
      "source": [
        "10//3"
      ],
      "metadata": {
        "colab": {
          "base_uri": "https://localhost:8080/"
        },
        "id": "PAfRQ-MFXyF3",
        "outputId": "e298b5dc-b98b-4aff-b446-daf97b8e6214"
      },
      "execution_count": 1,
      "outputs": [
        {
          "output_type": "execute_result",
          "data": {
            "text/plain": [
              "3"
            ]
          },
          "metadata": {},
          "execution_count": 1
        }
      ]
    },
    {
      "cell_type": "code",
      "source": [
        "(1+2j)//3"
      ],
      "metadata": {
        "colab": {
          "base_uri": "https://localhost:8080/",
          "height": 171
        },
        "id": "mk4d_z2lYI6m",
        "outputId": "731b343f-f2c1-4bce-f6cb-fdb516586628"
      },
      "execution_count": 2,
      "outputs": [
        {
          "output_type": "error",
          "ename": "TypeError",
          "evalue": "ignored",
          "traceback": [
            "\u001b[0;31m---------------------------------------------------------------------------\u001b[0m",
            "\u001b[0;31mTypeError\u001b[0m                                 Traceback (most recent call last)",
            "\u001b[0;32m<ipython-input-2-ff0b76792ba2>\u001b[0m in \u001b[0;36m<module>\u001b[0;34m()\u001b[0m\n\u001b[0;32m----> 1\u001b[0;31m \u001b[0;34m(\u001b[0m\u001b[0;36m1\u001b[0m\u001b[0;34m+\u001b[0m\u001b[0;36m2j\u001b[0m\u001b[0;34m)\u001b[0m\u001b[0;34m//\u001b[0m\u001b[0;36m3\u001b[0m\u001b[0;34m\u001b[0m\u001b[0;34m\u001b[0m\u001b[0m\n\u001b[0m",
            "\u001b[0;31mTypeError\u001b[0m: can't take floor of complex number."
          ]
        }
      ]
    },
    {
      "cell_type": "markdown",
      "source": [
        "only possible for numeric data type except complex type data"
      ],
      "metadata": {
        "id": "DFdGZqF2YFWk"
      }
    },
    {
      "cell_type": "markdown",
      "source": [
        "**Modulus** (%)\n",
        "\n",
        "*  returns the remainder of dividing two numbers."
      ],
      "metadata": {
        "id": "RbaQ1uV_XZxf"
      }
    },
    {
      "cell_type": "code",
      "source": [
        "10%3"
      ],
      "metadata": {
        "colab": {
          "base_uri": "https://localhost:8080/"
        },
        "id": "Zb1I6JjEYmd_",
        "outputId": "65698ff8-80ef-47ee-d6c5-9b54eca7fedc"
      },
      "execution_count": 3,
      "outputs": [
        {
          "output_type": "execute_result",
          "data": {
            "text/plain": [
              "1"
            ]
          },
          "metadata": {},
          "execution_count": 3
        }
      ]
    },
    {
      "cell_type": "markdown",
      "source": [
        "only possible for numeric data type except complex type data"
      ],
      "metadata": {
        "id": "g5FcZymVYqBP"
      }
    },
    {
      "cell_type": "markdown",
      "source": [
        "#**Sort mathematically in evaluating**"
      ],
      "metadata": {
        "id": "sObz4OzOLU7R"
      }
    },
    {
      "cell_type": "markdown",
      "source": [
        "if question :\n",
        "- 1+1 *0\n",
        "- 50+8 * 20+10-8/3*7+5^8\n",
        "- Tips: use parentheses for easy readability and ensure proper order"
      ],
      "metadata": {
        "id": "kK7s_mkILZfZ"
      }
    },
    {
      "cell_type": "markdown",
      "source": [
        "True"
      ],
      "metadata": {
        "id": "mfOOxvMOOsMh"
      }
    },
    {
      "cell_type": "code",
      "source": [
        "1+(1*0)"
      ],
      "metadata": {
        "colab": {
          "base_uri": "https://localhost:8080/"
        },
        "id": "P5OMPJsDOsnS",
        "outputId": "6223679b-2763-46f9-ee0f-4838f7c96b4b"
      },
      "execution_count": null,
      "outputs": [
        {
          "output_type": "execute_result",
          "data": {
            "text/plain": [
              "1"
            ]
          },
          "metadata": {},
          "execution_count": 43
        }
      ]
    },
    {
      "cell_type": "markdown",
      "source": [
        "False"
      ],
      "metadata": {
        "id": "LnsXGRj5OtCK"
      }
    },
    {
      "cell_type": "code",
      "source": [
        "(1+1)*0"
      ],
      "metadata": {
        "colab": {
          "base_uri": "https://localhost:8080/"
        },
        "id": "-MoiePMIOuLp",
        "outputId": "6fc0670c-f176-4fc4-a35f-90567792d0c4"
      },
      "execution_count": null,
      "outputs": [
        {
          "output_type": "execute_result",
          "data": {
            "text/plain": [
              "0"
            ]
          },
          "metadata": {},
          "execution_count": 45
        }
      ]
    },
    {
      "cell_type": "markdown",
      "source": [
        "True"
      ],
      "metadata": {
        "id": "GJ4aIg93N_vZ"
      }
    },
    {
      "cell_type": "code",
      "source": [
        "50+(8*20)+10-((8/3)*7)+(5**8)"
      ],
      "metadata": {
        "colab": {
          "base_uri": "https://localhost:8080/"
        },
        "id": "x_xU5TD0LYDa",
        "outputId": "2b76bac2-93ec-4a3e-88b3-de6f30930798"
      },
      "execution_count": null,
      "outputs": [
        {
          "output_type": "execute_result",
          "data": {
            "text/plain": [
              "390826.3333333333"
            ]
          },
          "metadata": {},
          "execution_count": 41
        }
      ]
    },
    {
      "cell_type": "markdown",
      "source": [
        "False"
      ],
      "metadata": {
        "id": "etyXRYsWOLeJ"
      }
    },
    {
      "cell_type": "code",
      "source": [
        "50+(8*20)+10-8/(3*7)+(5^8)"
      ],
      "metadata": {
        "colab": {
          "base_uri": "https://localhost:8080/"
        },
        "id": "YzGszvn3ON8s",
        "outputId": "1b5bb0bf-9cbb-4109-e940-198437f43c32"
      },
      "execution_count": null,
      "outputs": [
        {
          "output_type": "execute_result",
          "data": {
            "text/plain": [
              "232.61904761904762"
            ]
          },
          "metadata": {},
          "execution_count": 42
        }
      ]
    }
  ]
}