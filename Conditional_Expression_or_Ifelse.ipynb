{
  "nbformat": 4,
  "nbformat_minor": 0,
  "metadata": {
    "colab": {
      "name": "Conditional Expression or Ifelse.ipynb",
      "provenance": [],
      "collapsed_sections": []
    },
    "kernelspec": {
      "name": "python3",
      "display_name": "Python 3"
    },
    "language_info": {
      "name": "python"
    }
  },
  "cells": [
    {
      "cell_type": "markdown",
      "source": [
        "#**IF**\n",
        "- The expression is placed after the if, and the decision is based on the truth value of the expression.\n",
        "- if the expression declares as true, then the statement block inside the if statement will be executed.\n",
        "- by convention, this block chooses an indent after the colon (;) if the magic expression as false, then the next block (after the statement) will be executed. "
      ],
      "metadata": {
        "id": "bjPaqbPXV6jG"
      }
    },
    {
      "cell_type": "code",
      "execution_count": 17,
      "metadata": {
        "colab": {
          "base_uri": "https://localhost:8080/"
        },
        "id": "vhKLUc12UV5Z",
        "outputId": "cb33494c-1a6d-4629-8cd8-548fc8bfd951"
      },
      "outputs": [
        {
          "output_type": "stream",
          "name": "stdout",
          "text": [
            "i is greater than 11\n"
          ]
        }
      ],
      "source": [
        "i=15\n",
        "if i > 11 :\n",
        "    print(\"i is greater than 11\")"
      ]
    },
    {
      "cell_type": "markdown",
      "source": [
        "#**ELSE**\n",
        "- else statement, can be combined with if statement, as a way out when the condition/evaluation result is false.\n",
        "- else is singular or optional."
      ],
      "metadata": {
        "id": "dN2xb89DWRyL"
      }
    },
    {
      "cell_type": "code",
      "source": [
        "certification_exam_requirements= int(input(\"exam status : \"))\n",
        "\n",
        "if certification_exam_requirements >= 700:\n",
        "    print(\"Pass\")\n",
        "else:\n",
        "    print(\"Fail\")"
      ],
      "metadata": {
        "id": "RZXexpKpWWbr",
        "colab": {
          "base_uri": "https://localhost:8080/"
        },
        "outputId": "a8939a7a-206e-4d8d-e96e-f1a02e9995dc"
      },
      "execution_count": 22,
      "outputs": [
        {
          "output_type": "stream",
          "name": "stdout",
          "text": [
            "exam status : 850\n",
            "Pass\n"
          ]
        }
      ]
    },
    {
      "cell_type": "markdown",
      "source": [
        "#**ELIF**\n",
        "- elif is short for else if\n",
        "- elif is an alternative to tiered\n",
        "- An if statement can be followed by one or more elif statements."
      ],
      "metadata": {
        "id": "dp990jukWfGM"
      }
    },
    {
      "cell_type": "code",
      "source": [
        "tamu_hotel = int(input(\"berapa tamu hotel saat ini: \"))\n",
        "\n",
        "if tamu_hotel >= 1000:\n",
        "    print(\"banyak tamu pengunjung\")\n",
        "elif nilai >= 500:\n",
        "    print(\"normal\")\n",
        "elif nilai <100:\n",
        "    print(\"kurang baik\")"
      ],
      "metadata": {
        "id": "UR8q-_PaWf7d",
        "colab": {
          "base_uri": "https://localhost:8080/"
        },
        "outputId": "7733d10f-0857-41bb-d652-5b81a8f400ea"
      },
      "execution_count": 25,
      "outputs": [
        {
          "output_type": "stream",
          "name": "stdout",
          "text": [
            "berapa tamu hotel saat ini: 1001\n",
            "banyak tamu pengunjung\n"
          ]
        }
      ]
    }
  ]
}