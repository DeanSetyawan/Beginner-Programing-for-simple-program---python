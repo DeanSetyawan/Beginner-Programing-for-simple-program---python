{
  "nbformat": 4,
  "nbformat_minor": 0,
  "metadata": {
    "colab": {
      "name": "Untitled21.ipynb",
      "provenance": []
    },
    "kernelspec": {
      "name": "python3",
      "display_name": "Python 3"
    },
    "language_info": {
      "name": "python"
    }
  },
  "cells": [
    {
      "cell_type": "markdown",
      "source": [
        "# input and output"
      ],
      "metadata": {
        "id": "o8U-vK9tdihR"
      }
    },
    {
      "cell_type": "markdown",
      "source": [
        "1. input() is one python build in function to reads a line from the input (usually from the user), converts the line into a string by removing the trailing newline, and returns it\n",
        "2. the output function print() is used to display the result of the program on the screen after execution"
      ],
      "metadata": {
        "id": "V8R_QPnrr0Z3"
      }
    },
    {
      "cell_type": "markdown",
      "source": [
        "> input type data"
      ],
      "metadata": {
        "id": "iMB675wG0LYS"
      }
    },
    {
      "cell_type": "code",
      "source": [
        "b=input()\n",
        "print(type(b))"
      ],
      "metadata": {
        "colab": {
          "base_uri": "https://localhost:8080/"
        },
        "id": "2YI6Cv1Dw8lN",
        "outputId": "c2bb57d4-8580-41cf-d635-f30c840ec1a8"
      },
      "execution_count": 5,
      "outputs": [
        {
          "output_type": "stream",
          "name": "stdout",
          "text": [
            "22\n",
            "<class 'str'>\n"
          ]
        }
      ]
    },
    {
      "cell_type": "markdown",
      "source": [
        "input type data will be always string unless convert to other type data"
      ],
      "metadata": {
        "id": "IeByhjyq0R_q"
      }
    },
    {
      "cell_type": "markdown",
      "source": [
        "> 4 ways to display data using print function"
      ],
      "metadata": {
        "id": "O3u9IyRf0Yt9"
      }
    },
    {
      "cell_type": "code",
      "execution_count": 7,
      "metadata": {
        "id": "9mpINAFXdhRJ",
        "colab": {
          "base_uri": "https://localhost:8080/"
        },
        "outputId": "3c8b26b0-6efd-4c84-94cb-c2eb6fa44ad9"
      },
      "outputs": [
        {
          "output_type": "stream",
          "name": "stdout",
          "text": [
            "input your name=sa\n",
            "halo sa 22\n"
          ]
        }
      ],
      "source": [
        "a=input(\"input your name=\")\n",
        "b=22\n",
        "print(\"halo %s %i\"%(a,b))"
      ]
    },
    {
      "cell_type": "code",
      "source": [
        "a=input(\"input your name=\")\n",
        "b=22\n",
        "print(\"halo {} umur {} tahun\".format(a,b))"
      ],
      "metadata": {
        "colab": {
          "base_uri": "https://localhost:8080/"
        },
        "id": "vZ75HJ6kvHZE",
        "outputId": "67e0873a-099e-4588-9b5e-85e2f1781b35"
      },
      "execution_count": 9,
      "outputs": [
        {
          "output_type": "stream",
          "name": "stdout",
          "text": [
            "input your name=sa\n",
            "halo sa 22\n"
          ]
        }
      ]
    },
    {
      "cell_type": "code",
      "source": [
        "a=input(\"input your name=\")\n",
        "print(f\"halo {a}\")"
      ],
      "metadata": {
        "colab": {
          "base_uri": "https://localhost:8080/"
        },
        "id": "aC-jK76YukES",
        "outputId": "520efaba-b7f8-40b6-97f7-65c483daed13"
      },
      "execution_count": 2,
      "outputs": [
        {
          "output_type": "stream",
          "name": "stdout",
          "text": [
            "input your name=hay\n",
            "halo hay\n"
          ]
        }
      ]
    },
    {
      "cell_type": "code",
      "source": [
        "a=input(\"input your name=\")\n",
        "print(\"halo\",a)"
      ],
      "metadata": {
        "colab": {
          "base_uri": "https://localhost:8080/"
        },
        "id": "anajuXz10nkW",
        "outputId": "81aea7ae-ee8f-438d-b262-bd45fd42ae26"
      },
      "execution_count": 6,
      "outputs": [
        {
          "output_type": "stream",
          "name": "stdout",
          "text": [
            "input your name=stat\n",
            "halo stat\n"
          ]
        }
      ]
    },
    {
      "cell_type": "markdown",
      "source": [
        ">display formula as it is"
      ],
      "metadata": {
        "id": "OLcwRqIX7CNi"
      }
    },
    {
      "cell_type": "markdown",
      "source": [
        "how its output should be"
      ],
      "metadata": {
        "id": "UywstEBg9G7c"
      }
    },
    {
      "cell_type": "code",
      "source": [
        "print(\"it's a happy day for me. \\ntoday, we're going to bioskop to watch newest film\")"
      ],
      "metadata": {
        "colab": {
          "base_uri": "https://localhost:8080/"
        },
        "id": "4yzGEynT70Ju",
        "outputId": "0f48ae76-9737-44ac-fce4-233f66607084"
      },
      "execution_count": 14,
      "outputs": [
        {
          "output_type": "stream",
          "name": "stdout",
          "text": [
            "it's a happy day for me. \n",
            " today, we're going to bioskop to watch newest film\n"
          ]
        }
      ]
    },
    {
      "cell_type": "markdown",
      "source": [
        "with r before \" we can make \\n to come out as output"
      ],
      "metadata": {
        "id": "S6cdOUpy9KIz"
      }
    },
    {
      "cell_type": "code",
      "source": [
        "print(r\"it's a happy day for me. \\ntoday, we're going to bioskop to watch newest film\")"
      ],
      "metadata": {
        "colab": {
          "base_uri": "https://localhost:8080/"
        },
        "id": "sk_Rb8at4xpJ",
        "outputId": "92cadb23-113b-4dfa-dbad-137efd48880c"
      },
      "execution_count": 13,
      "outputs": [
        {
          "output_type": "stream",
          "name": "stdout",
          "text": [
            "it's a happy day for me. \\n today, we're going to bioskop to watch newest film\n"
          ]
        }
      ]
    },
    {
      "cell_type": "markdown",
      "source": [
        "we can aso use backslash to display simbol we want to display at outpus such as (')"
      ],
      "metadata": {
        "id": "7zaaRJwr-IBV"
      }
    },
    {
      "cell_type": "code",
      "source": [
        "print('shinta house\\'s')"
      ],
      "metadata": {
        "colab": {
          "base_uri": "https://localhost:8080/"
        },
        "id": "brgGJvYS-QGH",
        "outputId": "0cc42604-9118-4159-ab32-cfd22c19c725"
      },
      "execution_count": 15,
      "outputs": [
        {
          "output_type": "stream",
          "name": "stdout",
          "text": [
            "shinta house's\n"
          ]
        }
      ]
    }
  ]
}